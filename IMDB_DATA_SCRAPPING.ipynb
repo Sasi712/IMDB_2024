{
 "cells": [
  {
   "cell_type": "markdown",
   "metadata": {},
   "source": [
    "Step1.\n",
    "Installation of seleinum for scrapping purpose"
   ]
  },
  {
   "cell_type": "code",
   "execution_count": 66,
   "metadata": {},
   "outputs": [
    {
     "name": "stdout",
     "output_type": "stream",
     "text": [
      "Requirement already satisfied: selenium in c:\\users\\sowmiya\\appdata\\local\\programs\\python\\python312\\lib\\site-packages (4.29.0)"
     ]
    },
    {
     "name": "stderr",
     "output_type": "stream",
     "text": [
      "\n",
      "[notice] A new release of pip is available: 24.3.1 -> 25.0.1\n",
      "[notice] To update, run: python.exe -m pip install --upgrade pip\n"
     ]
    },
    {
     "name": "stdout",
     "output_type": "stream",
     "text": [
      "\n",
      "Requirement already satisfied: urllib3<3,>=1.26 in c:\\users\\sowmiya\\appdata\\local\\programs\\python\\python312\\lib\\site-packages (from urllib3[socks]<3,>=1.26->selenium) (2.3.0)\n",
      "Requirement already satisfied: trio~=0.17 in c:\\users\\sowmiya\\appdata\\local\\programs\\python\\python312\\lib\\site-packages (from selenium) (0.29.0)\n",
      "Requirement already satisfied: trio-websocket~=0.9 in c:\\users\\sowmiya\\appdata\\local\\programs\\python\\python312\\lib\\site-packages (from selenium) (0.12.2)\n",
      "Requirement already satisfied: certifi>=2021.10.8 in c:\\users\\sowmiya\\appdata\\local\\programs\\python\\python312\\lib\\site-packages (from selenium) (2025.1.31)\n",
      "Requirement already satisfied: typing_extensions~=4.9 in c:\\users\\sowmiya\\appdata\\local\\programs\\python\\python312\\lib\\site-packages (from selenium) (4.12.2)\n",
      "Requirement already satisfied: websocket-client~=1.8 in c:\\users\\sowmiya\\appdata\\local\\programs\\python\\python312\\lib\\site-packages (from selenium) (1.8.0)\n",
      "Requirement already satisfied: attrs>=23.2.0 in c:\\users\\sowmiya\\appdata\\local\\programs\\python\\python312\\lib\\site-packages (from trio~=0.17->selenium) (25.3.0)\n",
      "Requirement already satisfied: sortedcontainers in c:\\users\\sowmiya\\appdata\\local\\programs\\python\\python312\\lib\\site-packages (from trio~=0.17->selenium) (2.4.0)\n",
      "Requirement already satisfied: idna in c:\\users\\sowmiya\\appdata\\local\\programs\\python\\python312\\lib\\site-packages (from trio~=0.17->selenium) (3.10)\n",
      "Requirement already satisfied: outcome in c:\\users\\sowmiya\\appdata\\local\\programs\\python\\python312\\lib\\site-packages (from trio~=0.17->selenium) (1.3.0.post0)\n",
      "Requirement already satisfied: sniffio>=1.3.0 in c:\\users\\sowmiya\\appdata\\local\\programs\\python\\python312\\lib\\site-packages (from trio~=0.17->selenium) (1.3.1)\n",
      "Requirement already satisfied: cffi>=1.14 in c:\\users\\sowmiya\\appdata\\local\\programs\\python\\python312\\lib\\site-packages (from trio~=0.17->selenium) (1.17.1)\n",
      "Requirement already satisfied: wsproto>=0.14 in c:\\users\\sowmiya\\appdata\\local\\programs\\python\\python312\\lib\\site-packages (from trio-websocket~=0.9->selenium) (1.2.0)\n",
      "Requirement already satisfied: pysocks!=1.5.7,<2.0,>=1.5.6 in c:\\users\\sowmiya\\appdata\\local\\programs\\python\\python312\\lib\\site-packages (from urllib3[socks]<3,>=1.26->selenium) (1.7.1)\n",
      "Requirement already satisfied: pycparser in c:\\users\\sowmiya\\appdata\\local\\programs\\python\\python312\\lib\\site-packages (from cffi>=1.14->trio~=0.17->selenium) (2.22)\n",
      "Requirement already satisfied: h11<1,>=0.9.0 in c:\\users\\sowmiya\\appdata\\local\\programs\\python\\python312\\lib\\site-packages (from wsproto>=0.14->trio-websocket~=0.9->selenium) (0.14.0)\n"
     ]
    }
   ],
   "source": [
    "! pip install selenium"
   ]
  },
  {
   "cell_type": "markdown",
   "metadata": {},
   "source": [
    "Step2. Installation of pandas for load more"
   ]
  },
  {
   "cell_type": "code",
   "execution_count": 67,
   "metadata": {},
   "outputs": [
    {
     "name": "stdout",
     "output_type": "stream",
     "text": [
      "Requirement already satisfied: pandas in c:\\users\\sowmiya\\appdata\\local\\programs\\python\\python312\\lib\\site-packages (2.2.3)"
     ]
    },
    {
     "name": "stderr",
     "output_type": "stream",
     "text": [
      "\n",
      "[notice] A new release of pip is available: 24.3.1 -> 25.0.1\n",
      "[notice] To update, run: python.exe -m pip install --upgrade pip\n"
     ]
    },
    {
     "name": "stdout",
     "output_type": "stream",
     "text": [
      "\n",
      "Requirement already satisfied: numpy>=1.26.0 in c:\\users\\sowmiya\\appdata\\local\\programs\\python\\python312\\lib\\site-packages (from pandas) (2.2.4)\n",
      "Requirement already satisfied: python-dateutil>=2.8.2 in c:\\users\\sowmiya\\appdata\\roaming\\python\\python312\\site-packages (from pandas) (2.9.0.post0)\n",
      "Requirement already satisfied: pytz>=2020.1 in c:\\users\\sowmiya\\appdata\\local\\programs\\python\\python312\\lib\\site-packages (from pandas) (2025.1)\n",
      "Requirement already satisfied: tzdata>=2022.7 in c:\\users\\sowmiya\\appdata\\local\\programs\\python\\python312\\lib\\site-packages (from pandas) (2025.1)\n",
      "Requirement already satisfied: six>=1.5 in c:\\users\\sowmiya\\appdata\\roaming\\python\\python312\\site-packages (from python-dateutil>=2.8.2->pandas) (1.17.0)\n"
     ]
    }
   ],
   "source": [
    "! pip install pandas\n"
   ]
  },
  {
   "cell_type": "markdown",
   "metadata": {},
   "source": [
    "Step 3. ENABLING AND EXTRACTING DATA FROM IMDB LINK"
   ]
  },
  {
   "cell_type": "code",
   "execution_count": null,
   "metadata": {},
   "outputs": [],
   "source": [
    "\n",
    "from selenium import webdriver\n",
    "from selenium.webdriver.common.by import By\n",
    "from selenium.webdriver.common.action_chains import ActionChains\n",
    "from selenium.webdriver.common.keys import Keys\n",
    "import time\n",
    " \n",
    " \n",
    " \n",
    "driver = webdriver.Chrome()\n",
    " \n",
    "driver.get(\"https://www.imdb.com/search/title/?title_type=feature&release_date=2024-01-01,2024-12-31&genres=crime\")\n",
    " \n",
    " \n",
    "time.sleep(5)\n",
    " \n",
    "def loadmore():\n",
    "    try:\n",
    "        load_more_button = driver.find_element(By.XPATH,'//*[@id=\"__next\"]/main/div[2]/div[3]/section/section/div/section/section/div[2]/div/section/div[2]/div[2]/div[2]/div/span/button/span/span')\n",
    " \n",
    "        ActionChains(driver).move_to_element(load_more_button).perform()\n",
    " \n",
    "        load_more_button.click()\n",
    " \n",
    "        time.sleep(3)\n",
    "        return True\n",
    "    except Exception as e:\n",
    "        print(\"Error clicking 'Load more button:\", e)\n",
    "        return False\n",
    "   \n",
    " \n",
    "while loadmore():\n",
    "    print(\"Clicked 'Load more' button \")\n",
    " \n",
    "print(\"No more content to load.\")\n",
    "\n",
    "\n",
    " \n",
    "time.sleep(5)\n",
    " \n",
    "movienames=[]\n",
    "ratings=[]\n",
    "votings=[]\n",
    "durations=[]\n",
    " \n",
    "\n",
    " \n",
    "total_movies = driver.find_elements(By.XPATH,'//*[@id=\"__next\"]/main/div[2]/div[3]/section/section/div/section/section/div[2]/div/section/div[2]/div[2]/ul/li')\n",
    " \n",
    "for total_movies in total_movies:\n",
    "    try:\n",
    "        moviename = total_movies.find_element(By.XPATH,'./div/div/div/div[1]/div[2]/div[1]/a/h3').text\n",
    "        rating = total_movies.find_element(By.XPATH,'./div/div/div/div[1]/div[2]/span/div/span/span[1]').text\n",
    "        voting = total_movies.find_element(By.XPATH,'./div/div/div/div[1]/div[2]/span/div/span/span[2]').text\n",
    "        duration = total_movies.find_element(By.XPATH,'./div/div/div/div[1]/div[2]/div[2]/span[2]').text\n",
    " \n",
    "        movienames.append(moviename)\n",
    "        ratings.append(rating)\n",
    "        votings.append(voting)\n",
    "        durations.append(duration)\n",
    "       \n",
    " \n",
    "    except Exception as e:\n",
    "        print(f\"Error extracting data for a movie: {e}\")\n",
    "        continue\n",
    " \n",
    "time.sleep(5)\n",
    " \n",
    "movienames=[]\n",
    "ratings=[]\n",
    "votings=[]\n",
    "durations=[]\n",
    " \n",
    " \n",
    " \n",
    "total_movies = driver.find_elements(By.XPATH,'//*[@id=\"__next\"]/main/div[2]/div[3]/section/section/div/section/section/div[2]/div/section/div[2]/div[2]/ul/li')\n",
    " \n",
    "for total_movies in total_movies:\n",
    "    try:\n",
    "        moviename = total_movies.find_element(By.XPATH,'./div/div/div/div[1]/div[2]/div[1]/a/h3').text\n",
    "        rating = total_movies.find_element(By.XPATH,'./div/div/div/div[1]/div[2]/span/div/span/span[1]').text\n",
    "        voting = total_movies.find_element(By.XPATH,'./div/div/div/div[1]/div[2]/span/div/span/span[2]').text\n",
    "        duration = total_movies.find_element(By.XPATH,'./div/div/div/div[1]/div[2]/div[2]/span[2]').text\n",
    " \n",
    "        movienames.append(moviename)\n",
    "        ratings.append(rating)\n",
    "        votings.append(voting)\n",
    "        durations.append(duration)\n",
    "       \n",
    " \n",
    "    except Exception as e:\n",
    "        print(f\"Error extracting data for a movie: {e}\")\n",
    "        continue\n",
    " \n",
    "df = pd.DataFrame({\n",
    "    'Moviename': movienames,\n",
    "    'Rating': ratings,\n",
    "    'Votes': votings,\n",
    "    'Duration': durations,\n",
    "   \n",
    "})\n",
    "driver.quit\n",
    "df"
   ]
  },
  {
   "cell_type": "markdown",
   "metadata": {},
   "source": [
    "Step.4 INSERTING GENRE COLUMN FOR EACH COLUMN"
   ]
  },
  {
   "cell_type": "code",
   "execution_count": null,
   "metadata": {},
   "outputs": [],
   "source": [
    "df[\"Genre\"] = \"Comedy\"  # Add a fixed genre column\n",
    " \n",
    "# Save to CSV\n",
    "df.to_csv(\"imbd_comedymovies_2024.csv\", index=False)"
   ]
  },
  {
   "cell_type": "markdown",
   "metadata": {},
   "source": [
    "Step5. MEGERING OF ALL GENRE CSV INTO SINGLE CSV"
   ]
  },
  {
   "cell_type": "code",
   "execution_count": null,
   "metadata": {},
   "outputs": [],
   "source": [
    "import pandas as pd\n",
    "import glob\n",
    " \n",
    "# List of CSV files to merge\n",
    "csv_files = [\"Action Movies 2024.csv\", \"Comedy Movies 2024.csv\", \"Crime Movie 2024.csv\", \"Horror Movie 2024.csv\", \"Romance Movie 2024.csv\"]\n",
    " \n",
    "# Read and concatenate all CSV files\n",
    "df = pd.concat([pd.read_csv(f) for f in csv_files])\n",
    " \n",
    "# Save to a new CSV file\n",
    "df.to_csv(\"Films_2024.csv\", index=False)\n",
    " "
   ]
  },
  {
   "cell_type": "markdown",
   "metadata": {},
   "source": [
    "Step6 .ANALYSIS OF DATA"
   ]
  },
  {
   "cell_type": "markdown",
   "metadata": {},
   "source": [
    "   READING THE DATA TO FIND MISTAKES"
   ]
  },
  {
   "cell_type": "code",
   "execution_count": null,
   "metadata": {},
   "outputs": [
    {
     "name": "stderr",
     "output_type": "stream",
     "text": [
      "<>:1: SyntaxWarning: invalid escape sequence '\\M'\n",
      "<>:1: SyntaxWarning: invalid escape sequence '\\M'\n",
      "C:\\Users\\sowmiya\\AppData\\Local\\Temp\\ipykernel_17704\\3553603723.py:1: SyntaxWarning: invalid escape sequence '\\M'\n",
      "  pd.read_csv(\"C:\\Moviescrapping\\Films_2024.csv\")\n"
     ]
    },
    {
     "data": {
      "text/html": [
       "<div>\n",
       "<style scoped>\n",
       "    .dataframe tbody tr th:only-of-type {\n",
       "        vertical-align: middle;\n",
       "    }\n",
       "\n",
       "    .dataframe tbody tr th {\n",
       "        vertical-align: top;\n",
       "    }\n",
       "\n",
       "    .dataframe thead th {\n",
       "        text-align: right;\n",
       "    }\n",
       "</style>\n",
       "<table border=\"1\" class=\"dataframe\">\n",
       "  <thead>\n",
       "    <tr style=\"text-align: right;\">\n",
       "      <th></th>\n",
       "      <th>Moviename</th>\n",
       "      <th>Rating</th>\n",
       "      <th>Votes</th>\n",
       "      <th>Duration</th>\n",
       "      <th>Genre</th>\n",
       "    </tr>\n",
       "  </thead>\n",
       "  <tbody>\n",
       "    <tr>\n",
       "      <th>0</th>\n",
       "      <td>1. Kraven the Hunter</td>\n",
       "      <td>5.4</td>\n",
       "      <td>(44K)</td>\n",
       "      <td>2h 7m</td>\n",
       "      <td>Action</td>\n",
       "    </tr>\n",
       "    <tr>\n",
       "      <th>1</th>\n",
       "      <td>2. Gladiator II</td>\n",
       "      <td>6.6</td>\n",
       "      <td>(215K)</td>\n",
       "      <td>2h 28m</td>\n",
       "      <td>Action</td>\n",
       "    </tr>\n",
       "    <tr>\n",
       "      <th>2</th>\n",
       "      <td>3. Sonic the Hedgehog 3</td>\n",
       "      <td>6.9</td>\n",
       "      <td>(52K)</td>\n",
       "      <td>1h 50m</td>\n",
       "      <td>Action</td>\n",
       "    </tr>\n",
       "    <tr>\n",
       "      <th>3</th>\n",
       "      <td>4. Venom: The Last Dance</td>\n",
       "      <td>6.0</td>\n",
       "      <td>(107K)</td>\n",
       "      <td>1h 50m</td>\n",
       "      <td>Action</td>\n",
       "    </tr>\n",
       "    <tr>\n",
       "      <th>4</th>\n",
       "      <td>5. Dune: Part Two</td>\n",
       "      <td>8.5</td>\n",
       "      <td>(612K)</td>\n",
       "      <td>2h 46m</td>\n",
       "      <td>Action</td>\n",
       "    </tr>\n",
       "    <tr>\n",
       "      <th>...</th>\n",
       "      <td>...</td>\n",
       "      <td>...</td>\n",
       "      <td>...</td>\n",
       "      <td>...</td>\n",
       "      <td>...</td>\n",
       "    </tr>\n",
       "    <tr>\n",
       "      <th>4709</th>\n",
       "      <td>1116. A Lovely Résumé</td>\n",
       "      <td>9.3</td>\n",
       "      <td>(7)</td>\n",
       "      <td>1h 10m</td>\n",
       "      <td>Romance</td>\n",
       "    </tr>\n",
       "    <tr>\n",
       "      <th>4710</th>\n",
       "      <td>1142. Osompurno</td>\n",
       "      <td>9.6</td>\n",
       "      <td>(13)</td>\n",
       "      <td>59m</td>\n",
       "      <td>Romance</td>\n",
       "    </tr>\n",
       "    <tr>\n",
       "      <th>4711</th>\n",
       "      <td>1144. Bring Back the Colour</td>\n",
       "      <td>5.9</td>\n",
       "      <td>(7)</td>\n",
       "      <td>47m</td>\n",
       "      <td>Romance</td>\n",
       "    </tr>\n",
       "    <tr>\n",
       "      <th>4712</th>\n",
       "      <td>1147. Tomari Sathe</td>\n",
       "      <td>8.0</td>\n",
       "      <td>(8)</td>\n",
       "      <td>54m</td>\n",
       "      <td>Romance</td>\n",
       "    </tr>\n",
       "    <tr>\n",
       "      <th>4713</th>\n",
       "      <td>1148. Black Owner and Horny College Girls</td>\n",
       "      <td>3.9</td>\n",
       "      <td>(7)</td>\n",
       "      <td>1h 5m</td>\n",
       "      <td>Romance</td>\n",
       "    </tr>\n",
       "  </tbody>\n",
       "</table>\n",
       "<p>4714 rows × 5 columns</p>\n",
       "</div>"
      ],
      "text/plain": [
       "                                      Moviename  Rating    Votes Duration  \\\n",
       "0                          1. Kraven the Hunter     5.4    (44K)    2h 7m   \n",
       "1                               2. Gladiator II     6.6   (215K)   2h 28m   \n",
       "2                       3. Sonic the Hedgehog 3     6.9    (52K)   1h 50m   \n",
       "3                      4. Venom: The Last Dance     6.0   (107K)   1h 50m   \n",
       "4                             5. Dune: Part Two     8.5   (612K)   2h 46m   \n",
       "...                                         ...     ...      ...      ...   \n",
       "4709                      1116. A Lovely Résumé     9.3      (7)   1h 10m   \n",
       "4710                            1142. Osompurno     9.6     (13)      59m   \n",
       "4711                1144. Bring Back the Colour     5.9      (7)      47m   \n",
       "4712                         1147. Tomari Sathe     8.0      (8)      54m   \n",
       "4713  1148. Black Owner and Horny College Girls     3.9      (7)    1h 5m   \n",
       "\n",
       "        Genre  \n",
       "0      Action  \n",
       "1      Action  \n",
       "2      Action  \n",
       "3      Action  \n",
       "4      Action  \n",
       "...       ...  \n",
       "4709  Romance  \n",
       "4710  Romance  \n",
       "4711  Romance  \n",
       "4712  Romance  \n",
       "4713  Romance  \n",
       "\n",
       "[4714 rows x 5 columns]"
      ]
     },
     "execution_count": 54,
     "metadata": {},
     "output_type": "execute_result"
    }
   ],
   "source": [
    "pd.read_csv(\"C:\\Moviescrapping\\Films_2024.csv\")"
   ]
  },
  {
   "cell_type": "markdown",
   "metadata": {},
   "source": [
    "  CHECKING THE COUNT OF DATA"
   ]
  },
  {
   "cell_type": "code",
   "execution_count": null,
   "metadata": {},
   "outputs": [
    {
     "data": {
      "text/plain": [
       "(4714, 5)"
      ]
     },
     "execution_count": 55,
     "metadata": {},
     "output_type": "execute_result"
    }
   ],
   "source": [
    "df.shape"
   ]
  },
  {
   "cell_type": "markdown",
   "metadata": {},
   "source": [
    "CHECKING EACH COLUMN HEADING"
   ]
  },
  {
   "cell_type": "code",
   "execution_count": null,
   "metadata": {},
   "outputs": [
    {
     "data": {
      "text/plain": [
       "Index(['Moviename', 'Rating', 'Votes', 'Duration', 'Genre'], dtype='object')"
      ]
     },
     "execution_count": 56,
     "metadata": {},
     "output_type": "execute_result"
    }
   ],
   "source": [
    "df.columns"
   ]
  },
  {
   "cell_type": "markdown",
   "metadata": {},
   "source": [
    "CHECKING THE DATA TYPE"
   ]
  },
  {
   "cell_type": "code",
   "execution_count": null,
   "metadata": {},
   "outputs": [
    {
     "data": {
      "text/plain": [
       "Moviename     object\n",
       "Rating       float64\n",
       "Votes         object\n",
       "Duration      object\n",
       "Genre         object\n",
       "dtype: object"
      ]
     },
     "execution_count": 57,
     "metadata": {},
     "output_type": "execute_result"
    }
   ],
   "source": [
    "df.dtypes"
   ]
  },
  {
   "cell_type": "markdown",
   "metadata": {},
   "source": [
    " CHECKING FOR MISSING VALUES"
   ]
  },
  {
   "cell_type": "code",
   "execution_count": null,
   "metadata": {},
   "outputs": [
    {
     "data": {
      "text/plain": [
       "Moviename    0\n",
       "Rating       0\n",
       "Votes        0\n",
       "Duration     0\n",
       "Genre        0\n",
       "dtype: int64"
      ]
     },
     "execution_count": 59,
     "metadata": {},
     "output_type": "execute_result"
    }
   ],
   "source": [
    "df.isnull().sum()"
   ]
  },
  {
   "cell_type": "markdown",
   "metadata": {},
   "source": [
    "CHECKING FOR DUPLICATES"
   ]
  },
  {
   "cell_type": "code",
   "execution_count": null,
   "metadata": {},
   "outputs": [
    {
     "data": {
      "text/plain": [
       "np.int64(2)"
      ]
     },
     "execution_count": 60,
     "metadata": {},
     "output_type": "execute_result"
    }
   ],
   "source": [
    "df.duplicated().sum()"
   ]
  },
  {
   "cell_type": "markdown",
   "metadata": {},
   "source": [
    "SUMMARY FOR STATSTICS"
   ]
  },
  {
   "cell_type": "code",
   "execution_count": null,
   "metadata": {},
   "outputs": [
    {
     "data": {
      "text/html": [
       "<div>\n",
       "<style scoped>\n",
       "    .dataframe tbody tr th:only-of-type {\n",
       "        vertical-align: middle;\n",
       "    }\n",
       "\n",
       "    .dataframe tbody tr th {\n",
       "        vertical-align: top;\n",
       "    }\n",
       "\n",
       "    .dataframe thead th {\n",
       "        text-align: right;\n",
       "    }\n",
       "</style>\n",
       "<table border=\"1\" class=\"dataframe\">\n",
       "  <thead>\n",
       "    <tr style=\"text-align: right;\">\n",
       "      <th></th>\n",
       "      <th>Rating</th>\n",
       "    </tr>\n",
       "  </thead>\n",
       "  <tbody>\n",
       "    <tr>\n",
       "      <th>count</th>\n",
       "      <td>4714.000000</td>\n",
       "    </tr>\n",
       "    <tr>\n",
       "      <th>mean</th>\n",
       "      <td>6.054370</td>\n",
       "    </tr>\n",
       "    <tr>\n",
       "      <th>std</th>\n",
       "      <td>1.574879</td>\n",
       "    </tr>\n",
       "    <tr>\n",
       "      <th>min</th>\n",
       "      <td>1.000000</td>\n",
       "    </tr>\n",
       "    <tr>\n",
       "      <th>25%</th>\n",
       "      <td>5.000000</td>\n",
       "    </tr>\n",
       "    <tr>\n",
       "      <th>50%</th>\n",
       "      <td>6.100000</td>\n",
       "    </tr>\n",
       "    <tr>\n",
       "      <th>75%</th>\n",
       "      <td>7.100000</td>\n",
       "    </tr>\n",
       "    <tr>\n",
       "      <th>max</th>\n",
       "      <td>10.000000</td>\n",
       "    </tr>\n",
       "  </tbody>\n",
       "</table>\n",
       "</div>"
      ],
      "text/plain": [
       "            Rating\n",
       "count  4714.000000\n",
       "mean      6.054370\n",
       "std       1.574879\n",
       "min       1.000000\n",
       "25%       5.000000\n",
       "50%       6.100000\n",
       "75%       7.100000\n",
       "max      10.000000"
      ]
     },
     "execution_count": 61,
     "metadata": {},
     "output_type": "execute_result"
    }
   ],
   "source": [
    "df.describe()"
   ]
  },
  {
   "cell_type": "markdown",
   "metadata": {},
   "source": [
    "Step7. HAVE TO NOTE THE POINTS TO BE CLEANED THROUGH ANALYSIS"
   ]
  },
  {
   "cell_type": "markdown",
   "metadata": {},
   "source": [
    "Step8.CLEANING PROCESS "
   ]
  },
  {
   "cell_type": "markdown",
   "metadata": {},
   "source": [
    " CONVERTING AND REPLACING THE RATING FROM STR TO INTEGER"
   ]
  },
  {
   "cell_type": "code",
   "execution_count": 76,
   "metadata": {},
   "outputs": [
    {
     "name": "stdout",
     "output_type": "stream",
     "text": [
      "                  Moviename  Rating   Votes Duration   Genre\n",
      "0      1. Kraven the Hunter     5.4   44000    2h 7m  Action\n",
      "1           2. Gladiator II     6.6  215000   2h 28m  Action\n",
      "2   3. Sonic the Hedgehog 3     6.9   52000   1h 50m  Action\n",
      "3  4. Venom: The Last Dance     6.0  107000   1h 50m  Action\n",
      "4         5. Dune: Part Two     8.5  612000   2h 46m  Action\n"
     ]
    },
    {
     "name": "stderr",
     "output_type": "stream",
     "text": [
      "<>:4: SyntaxWarning: invalid escape sequence '\\M'\n",
      "<>:4: SyntaxWarning: invalid escape sequence '\\M'\n",
      "C:\\Users\\sowmiya\\AppData\\Local\\Temp\\ipykernel_17704\\1609366661.py:4: SyntaxWarning: invalid escape sequence '\\M'\n",
      "  df = pd.read_csv('C:\\Moviescrapping\\Films_2024.csv')\n"
     ]
    }
   ],
   "source": [
    "import pandas as pd\n",
    " \n",
    "# Load the CSV file\n",
    "df = pd.read_csv('C:\\Moviescrapping\\Films_2024.csv')\n",
    " \n",
    "# Function to convert votes format from '40K' to 40000\n",
    "def convert_votes(vote):\n",
    "    if 'K' in vote:\n",
    "        return int(float(vote.replace('K', '')) * 1000)\n",
    "    return int(vote)\n",
    " \n",
    "# Apply the conversion to the 'Votes' column\n",
    "df['Votes'] = df['Votes'].str.replace('[()]', '', regex=True).apply(convert_votes)\n",
    " \n",
    "#Save the modified DataFrame back to a CSV file\n",
    "#df.to_csv('C:\\Movie scrapping\\Films_2024.csv', index=False)\n",
    " \n",
    "print(df.head())\n",
    " "
   ]
  },
  {
   "cell_type": "markdown",
   "metadata": {},
   "source": [
    " CONVERTING DURATION FROM HOURS TO MINUTES"
   ]
  },
  {
   "cell_type": "code",
   "execution_count": 77,
   "metadata": {},
   "outputs": [
    {
     "name": "stdout",
     "output_type": "stream",
     "text": [
      "                  Moviename  Rating   Votes  Duration   Genre\n",
      "0      1. Kraven the Hunter     5.4   44000       127  Action\n",
      "1           2. Gladiator II     6.6  215000       148  Action\n",
      "2   3. Sonic the Hedgehog 3     6.9   52000       110  Action\n",
      "3  4. Venom: The Last Dance     6.0  107000       110  Action\n",
      "4         5. Dune: Part Two     8.5  612000       166  Action\n"
     ]
    }
   ],
   "source": [
    "import pandas as pd\n",
    " \n",
    "# Function to convert duration from '2h 7m' to total minutes\n",
    "def convert_duration(duration):\n",
    "    parts = duration.split()\n",
    "    total_minutes = 0\n",
    "    for part in parts:\n",
    "        if 'h' in part:\n",
    "            total_minutes += int(part.replace('h', '')) * 60\n",
    "        elif 'm' in part:\n",
    "            total_minutes += int(part.replace('m', ''))\n",
    "    return total_minutes\n",
    " \n",
    "# Apply the conversion to the 'Duration' column\n",
    "df['Duration'] = df['Duration'].apply(convert_duration)\n",
    " \n",
    "# Save the modified DataFrame back to a CSV file\n",
    "df.to_csv('Films_2024.csv', index=False)\n",
    " \n",
    "print(df.head())"
   ]
  },
  {
   "cell_type": "markdown",
   "metadata": {},
   "source": [
    " REMOVING INDEX FROM THE DATA AS IT FOUND DUPLICATES"
   ]
  },
  {
   "cell_type": "code",
   "execution_count": 78,
   "metadata": {},
   "outputs": [
    {
     "name": "stdout",
     "output_type": "stream",
     "text": [
      "<class 'pandas.core.frame.DataFrame'>\n",
      "RangeIndex: 4714 entries, 0 to 4713\n",
      "Data columns (total 5 columns):\n",
      " #   Column     Non-Null Count  Dtype  \n",
      "---  ------     --------------  -----  \n",
      " 0   Moviename  4714 non-null   object \n",
      " 1   Rating     4714 non-null   float64\n",
      " 2   Votes      4714 non-null   int64  \n",
      " 3   Duration   4714 non-null   int64  \n",
      " 4   Genre      4714 non-null   object \n",
      "dtypes: float64(1), int64(2), object(2)\n",
      "memory usage: 184.3+ KB\n",
      "None\n"
     ]
    }
   ],
   "source": [
    "import pandas as pd\n",
    "\n",
    "# Load your dataset (replace 'your_file.csv' with your actual file path)\n",
    "df = pd.read_csv(\"Films_2024.csv\")  \n",
    "\n",
    "# Remove leading numbers and periods using regex\n",
    "df[\"Moviename\"] = df[\"Moviename\"].str.replace(r\"^\\d+\\.\\s*\", \"\", regex=True)\n",
    "\n",
    "# Save the cleaned dataset (optional)\n",
    "df.to_csv(\"Films_2024.csv\", index=False)\n",
    "\n",
    "# Display the first few rows\n",
    "print(df.info())"
   ]
  },
  {
   "cell_type": "markdown",
   "metadata": {},
   "source": [
    " CHECKING AND REMOVING UNIQUE DUPLICATES"
   ]
  },
  {
   "cell_type": "code",
   "execution_count": 79,
   "metadata": {},
   "outputs": [
    {
     "name": "stdout",
     "output_type": "stream",
     "text": [
      "Number of duplicates found: 0\n",
      "No duplicates found.\n",
      "               Moviename  Rating   Votes  Duration   Genre\n",
      "0      Kraven the Hunter     5.4   44000       127  Action\n",
      "1           Gladiator II     6.6  215000       148  Action\n",
      "2   Sonic the Hedgehog 3     6.9   52000       110  Action\n",
      "3  Venom: The Last Dance     6.0  107000       110  Action\n",
      "4         Dune: Part Two     8.5  612000       166  Action\n"
     ]
    },
    {
     "name": "stderr",
     "output_type": "stream",
     "text": [
      "<>:4: SyntaxWarning: invalid escape sequence '\\M'\n",
      "<>:4: SyntaxWarning: invalid escape sequence '\\M'\n",
      "C:\\Users\\sowmiya\\AppData\\Local\\Temp\\ipykernel_17704\\2480660952.py:4: SyntaxWarning: invalid escape sequence '\\M'\n",
      "  df = pd.read_csv('C:\\Moviescrapping\\Films_2024.csv')\n"
     ]
    }
   ],
   "source": [
    "import pandas as pd\n",
    " \n",
    "# Load the CSV file\n",
    "df = pd.read_csv('C:\\Moviescrapping\\Films_2024.csv')\n",
    " \n",
    "# Check for duplicates based on all columns\n",
    "duplicates = df.duplicated()\n",
    " \n",
    "# Print the number of duplicates found\n",
    "print(f\"Number of duplicates found: {duplicates.sum()}\")\n",
    " \n",
    "# If duplicates are found, remove them\n",
    "if duplicates.sum() > 0:\n",
    "    df = df.drop_duplicates()\n",
    "    print(\"Duplicates have been removed.\")\n",
    "else:\n",
    "    print(\"No duplicates found.\")\n",
    " \n",
    "# Save the cleaned DataFrame back to a CSV file\n",
    "#df.to_csv('Films_2024.csv_no_duplicates.csv', index=False)\n",
    " \n",
    "print(df.head())"
   ]
  },
  {
   "cell_type": "markdown",
   "metadata": {},
   "source": [
    " CHECKING AND REMOVING DURATION OF MOVIE IF IT IS EQUAL TO ZERO"
   ]
  },
  {
   "cell_type": "code",
   "execution_count": 80,
   "metadata": {},
   "outputs": [
    {
     "name": "stdout",
     "output_type": "stream",
     "text": [
      "               Moviename  Rating   Votes  Duration   Genre\n",
      "0      Kraven the Hunter     5.4   44000       127  Action\n",
      "1           Gladiator II     6.6  215000       148  Action\n",
      "2   Sonic the Hedgehog 3     6.9   52000       110  Action\n",
      "3  Venom: The Last Dance     6.0  107000       110  Action\n",
      "4         Dune: Part Two     8.5  612000       166  Action\n"
     ]
    }
   ],
   "source": [
    "import pandas as pd\n",
    "\n",
    "# Read the CSV file into a DataFrame\n",
    "df = pd.read_csv('Films_2024.csv')\n",
    "\n",
    "# Filter out rows where Duration is 0\n",
    "df_cleaned = df[df['Duration'] != 0]\n",
    "\n",
    "# If you want to save the cleaned DataFrame back to a CSV file\n",
    "df_cleaned.to_csv('Films_2024.csv', index=False)\n",
    "\n",
    "# Display the first few rows of the cleaned DataFrame to verify\n",
    "print(df_cleaned.head())"
   ]
  },
  {
   "cell_type": "code",
   "execution_count": null,
   "metadata": {},
   "outputs": [
    {
     "name": "stdout",
     "output_type": "stream",
     "text": [
      "Requirement already satisfied: mysql-connector-python in c:\\users\\sowmiya\\appdata\\local\\programs\\python\\python312\\lib\\site-packages (9.2.0)\n"
     ]
    },
    {
     "name": "stderr",
     "output_type": "stream",
     "text": [
      "\n",
      "[notice] A new release of pip is available: 24.3.1 -> 25.0.1\n",
      "[notice] To update, run: python.exe -m pip install --upgrade pip\n"
     ]
    }
   ],
   "source": [
    "! pip install mysql-connector-python"
   ]
  },
  {
   "cell_type": "code",
   "execution_count": 69,
   "metadata": {},
   "outputs": [],
   "source": [
    "import mysql.connector\n",
    "\n",
    "connection = mysql.connector.connect(\n",
    "  host = \"gateway01.ap-southeast-1.prod.aws.tidbcloud.com\",\n",
    "  port = 4000,\n",
    "  user = \"4C5xvhb3JaX4mrB.root\",\n",
    "  password = \"M5kJTbyBovNOKjvP\",\n",
    "  database = \"IMDB\",\n",
    ")\n",
    "mycursor = connection.cursor(buffered=True)"
   ]
  },
  {
   "cell_type": "markdown",
   "metadata": {},
   "source": []
  }
 ],
 "metadata": {
  "kernelspec": {
   "display_name": "Python 3",
   "language": "python",
   "name": "python3"
  },
  "language_info": {
   "codemirror_mode": {
    "name": "ipython",
    "version": 3
   },
   "file_extension": ".py",
   "mimetype": "text/x-python",
   "name": "python",
   "nbconvert_exporter": "python",
   "pygments_lexer": "ipython3",
   "version": "3.12.8"
  }
 },
 "nbformat": 4,
 "nbformat_minor": 2
}
